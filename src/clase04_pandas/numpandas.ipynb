{
 "cells": [
  {
   "cell_type": "markdown",
   "metadata": {},
   "source": [
    "# Tutorial de NumPy y Pandas\n",
    "## Una guía completa para el análisis de datos en Python\n",
    "\n",
    "---\n",
    "\n",
    "Este notebook cubre:\n",
    "- **NumPy**: Conceptos básicos y operaciones fundamentales\n",
    "- **Pandas**: Guía detallada para análisis y manipulación de datos"
   ]
  },
  {
   "cell_type": "markdown",
   "metadata": {},
   "source": [
    "## Instalación de las bibliotecas\n",
    "\n",
    "Si no tienes instaladas estas bibliotecas, ejecuta:\n",
    "\n",
    "```bash\n",
    "pip install numpy pandas\n",
    "```"
   ]
  },
  {
   "metadata": {},
   "cell_type": "code",
   "source": [
    "import micropip\n",
    "await micropip.install(['pandas', 'numpy'])"
   ],
   "outputs": [],
   "execution_count": null
  },
  {
   "cell_type": "code",
   "metadata": {},
   "source": [
    "import numpy as np\n",
    "import pandas as pd\n",
    "\n",
    "print(f\"NumPy versión: {np.__version__}\")\n",
    "print(f\"Pandas versión: {pd.__version__}\")"
   ],
   "outputs": [],
   "execution_count": null
  },
  {
   "cell_type": "markdown",
   "metadata": {},
   "source": [
    "---\n",
    "# 1. NumPy - Fundamentos Básicos\n",
    "\n",
    "**NumPy** (Numerical Python) es la biblioteca fundamental para computación científica en Python. Proporciona:\n",
    "- Arrays multidimensionales eficientes\n",
    "- Funciones matemáticas de alto rendimiento\n",
    "- Herramientas para álgebra lineal y números aleatorios"
   ]
  },
  {
   "cell_type": "markdown",
   "metadata": {},
   "source": [
    "## 1.1 Creación de Arrays"
   ]
  },
  {
   "cell_type": "code",
   "metadata": {},
   "source": [
    "# Array de una dimensión\n",
    "arr_1d = np.array([1, 2, 3, 4, 5])\n",
    "print(\"Array 1D:\", arr_1d)\n",
    "print(\"Tipo:\", type(arr_1d))\n",
    "print(\"Forma:\", arr_1d.shape)\n",
    "\n",
    "# Array de dos dimensiones (matriz)\n",
    "arr_2d = np.array([[1, 2, 3], [4, 5, 6]])\n",
    "print(\"\\nArray 2D:\")\n",
    "print(arr_2d)\n",
    "print(\"Forma:\", arr_2d.shape)\n",
    "print(\"Dimensiones:\", arr_2d.ndim)"
   ],
   "outputs": [],
   "execution_count": null
  },
  {
   "cell_type": "markdown",
   "metadata": {},
   "source": [
    "## 1.2 Funciones de Creación Útiles"
   ]
  },
  {
   "cell_type": "code",
   "metadata": {},
   "source": [
    "# Crear array de ceros\n",
    "ceros = np.zeros((3, 4))\n",
    "print(\"Array de ceros (3x4):\")\n",
    "print(ceros)\n",
    "\n",
    "# Crear array de unos\n",
    "unos = np.ones((2, 3))\n",
    "print(\"\\nArray de unos (2x3):\")\n",
    "print(unos)\n",
    "\n",
    "# Rango de valores\n",
    "rango = np.arange(0, 10, 2)  # inicio, fin, paso\n",
    "print(\"\\nRango de 0 a 10 con paso 2:\", rango)\n",
    "\n",
    "# Valores espaciados linealmente\n",
    "linspace = np.linspace(0, 1, 5)  # 5 valores entre 0 y 1\n",
    "print(\"\\n5 valores entre 0 y 1:\", linspace)"
   ],
   "outputs": [],
   "execution_count": null
  },
  {
   "cell_type": "markdown",
   "metadata": {},
   "source": [
    "## 1.3 Operaciones Básicas"
   ]
  },
  {
   "cell_type": "code",
   "metadata": {},
   "source": [
    "a = np.array([1, 2, 3, 4])\n",
    "b = np.array([10, 20, 30, 40])\n",
    "\n",
    "print(\"a:\", a)\n",
    "print(\"b:\", b)\n",
    "print(\"\\nSuma: a + b =\", a + b)\n",
    "print(\"Resta: a - b =\", a - b)\n",
    "print(\"Multiplicación: a * b =\", a * b)\n",
    "print(\"División: b / a =\", b / a)\n",
    "print(\"Potencia: a ** 2 =\", a ** 2)\n",
    "\n",
    "# Funciones agregadas\n",
    "print(\"\\nSuma total:\", a.sum())\n",
    "print(\"Media:\", a.mean())\n",
    "print(\"Máximo:\", a.max())\n",
    "print(\"Mínimo:\", a.min())\n",
    "print(\"Desviación estándar:\", a.std())"
   ],
   "outputs": [],
   "execution_count": null
  },
  {
   "cell_type": "markdown",
   "metadata": {},
   "source": [
    "## 1.4 Indexación y Slicing"
   ]
  },
  {
   "cell_type": "code",
   "metadata": {},
   "source": [
    "arr = np.array([0, 1, 2, 3, 4, 5, 6, 7, 8, 9])\n",
    "\n",
    "print(\"Array original:\", arr)\n",
    "print(\"Primer elemento:\", arr[0])\n",
    "print(\"Últimos 3 elementos:\", arr[-3:])\n",
    "print(\"Elementos del índice 2 al 5:\", arr[2:6])\n",
    "print(\"Elementos pares (cada 2):\", arr[::2])\n",
    "\n",
    "# Array 2D\n",
    "matriz = np.array([[1, 2, 3], [4, 5, 6], [7, 8, 9]])\n",
    "print(\"\\nMatriz:\")\n",
    "print(matriz)\n",
    "print(\"Elemento en fila 1, columna 2:\", matriz[1, 2])\n",
    "print(\"Primera fila:\", matriz[0, :])\n",
    "print(\"Segunda columna:\", matriz[:, 1])"
   ],
   "outputs": [],
   "execution_count": null
  },
  {
   "cell_type": "markdown",
   "metadata": {},
   "source": [
    "---\n",
    "# 2. Pandas - Análisis de Datos Completo\n",
    "\n",
    "**Pandas** es la biblioteca esencial para análisis y manipulación de datos en Python. Construida sobre NumPy, ofrece:\n",
    "- **Series**: Arrays unidimensionales con etiquetas\n",
    "- **DataFrames**: Estructuras tabulares bidimensionales\n",
    "- Herramientas potentes para limpieza, transformación y análisis de datos"
   ]
  },
  {
   "cell_type": "markdown",
   "metadata": {},
   "source": [
    "## 2.1 Series - Arrays Unidimensionales con Índices"
   ]
  },
  {
   "cell_type": "code",
   "metadata": {
    "ExecuteTime": {
     "end_time": "2025-10-16T14:02:29.384285Z",
     "start_time": "2025-10-16T14:02:29.370555Z"
    }
   },
   "source": [
    "# Crear una Serie desde una lista\n",
    "serie = pd.Series([10, 20, 30, 40, 50])\n",
    "print(\"Serie simple:\")\n",
    "print(serie)\n",
    "\n",
    "# Serie con índices personalizados\n",
    "temperaturas = pd.Series(\n",
    "    [22, 25, 19, 28, 24],\n",
    "    index=['Lunes', 'Martes', 'Miércoles', 'Jueves', 'Viernes']\n",
    ")\n",
    "print(\"\\nTemperaturas de la semana:\")\n",
    "print(temperaturas)\n",
    "\n",
    "# Acceso a elementos\n",
    "print(\"\\nTemperatura del Martes:\", temperaturas['Martes'])\n",
    "print(\"Temperaturas mayores a 23°:\", temperaturas[temperaturas > 23])"
   ],
   "outputs": [
    {
     "name": "stdout",
     "output_type": "stream",
     "text": [
      "Serie simple:\n",
      "0    10\n",
      "1    20\n",
      "2    30\n",
      "3    40\n",
      "4    50\n",
      "dtype: int64\n",
      "\n",
      "Temperaturas de la semana:\n",
      "Lunes        22\n",
      "Martes       25\n",
      "Miércoles    19\n",
      "Jueves       28\n",
      "Viernes      24\n",
      "dtype: int64\n",
      "\n",
      "Temperatura del Martes: 25\n",
      "Temperaturas mayores a 23°: Martes     25\n",
      "Jueves     28\n",
      "Viernes    24\n",
      "dtype: int64\n"
     ]
    }
   ],
   "execution_count": 12
  },
  {
   "cell_type": "markdown",
   "metadata": {},
   "source": [
    "## 2.2 DataFrames - Tablas de Datos\n",
    "\n",
    "Un DataFrame es la estructura principal de Pandas. Es similar a una tabla de Excel o una base de datos SQL."
   ]
  },
  {
   "cell_type": "code",
   "metadata": {},
   "source": [
    "# Crear DataFrame desde un diccionario\n",
    "datos = {\n",
    "    'Nombre': ['Ana', 'Luis', 'María', 'Carlos', 'Elena'],\n",
    "    'Edad': [25, 32, 28, 35, 29],\n",
    "    'Ciudad': ['Madrid', 'Barcelona', 'Madrid', 'Valencia', 'Barcelona'],\n",
    "    'Salario': [30000, 45000, 38000, 52000, 41000]\n",
    "}\n",
    "\n",
    "df = pd.DataFrame(datos)\n",
    "print(\"DataFrame de empleados:\")\n",
    "print(df)\n",
    "\n",
    "# Información básica\n",
    "print(\"\\nForma (filas, columnas):\", df.shape)\n",
    "print(\"Columnas:\", df.columns.tolist())\n",
    "print(\"Tipos de datos:\")\n",
    "print(df.dtypes)"
   ],
   "outputs": [],
   "execution_count": null
  },
  {
   "cell_type": "markdown",
   "metadata": {},
   "source": [
    "## 2.3 Visualización y Resumen de Datos"
   ]
  },
  {
   "cell_type": "code",
   "metadata": {},
   "source": [
    "# Primeras filas\n",
    "print(\"Primeras 3 filas:\")\n",
    "print(df.head(3))\n",
    "\n",
    "# Últimas filas\n",
    "print(\"\\nÚltimas 2 filas:\")\n",
    "print(df.tail(2))\n",
    "\n",
    "# Información general\n",
    "print(\"\\nInformación del DataFrame:\")\n",
    "df.info()\n",
    "\n",
    "# Estadísticas descriptivas\n",
    "print(\"\\nEstadísticas descriptivas:\")\n",
    "print(df.describe())"
   ],
   "outputs": [],
   "execution_count": null
  },
  {
   "cell_type": "markdown",
   "metadata": {},
   "source": [
    "## 2.4 Selección de Datos\n",
    "\n",
    "Pandas ofrece múltiples formas de seleccionar y filtrar datos."
   ]
  },
  {
   "cell_type": "code",
   "metadata": {},
   "source": [
    "# Seleccionar una columna (retorna una Serie)\n",
    "print(\"Columna de nombres:\")\n",
    "print(df['Nombre'])\n",
    "\n",
    "# Seleccionar múltiples columnas (retorna DataFrame)\n",
    "print(\"\\nNombre y Salario:\")\n",
    "print(df[['Nombre', 'Salario']])\n",
    "\n",
    "# Seleccionar filas por índice numérico con iloc\n",
    "print(\"\\nPrimera fila (iloc):\")\n",
    "print(df.iloc[0])\n",
    "\n",
    "print(\"\\nFilas 1 a 3:\")\n",
    "print(df.iloc[1:4])\n",
    "\n",
    "# Seleccionar con loc (por etiquetas)\n",
    "print(\"\\nFilas 0 a 2, columnas Nombre y Edad:\")\n",
    "print(df.loc[0:2, ['Nombre', 'Edad']])"
   ],
   "outputs": [],
   "execution_count": null
  },
  {
   "cell_type": "markdown",
   "metadata": {},
   "source": [
    "## 2.5 Filtrado de Datos\n",
    "\n",
    "Filtrar datos según condiciones es una operación fundamental."
   ]
  },
  {
   "cell_type": "code",
   "metadata": {},
   "source": [
    "# Filtrar por una condición\n",
    "print(\"Personas mayores de 30 años:\")\n",
    "mayores_30 = df[df['Edad'] > 30]\n",
    "print(mayores_30)\n",
    "\n",
    "# Múltiples condiciones con & (AND) y | (OR)\n",
    "print(\"\\nPersonas de Madrid con salario > 35000:\")\n",
    "filtro = df[(df['Ciudad'] == 'Madrid') & (df['Salario'] > 35000)]\n",
    "print(filtro)\n",
    "\n",
    "# Filtrar con isin()\n",
    "print(\"\\nPersonas de Madrid o Barcelona:\")\n",
    "ciudades_filtro = df[df['Ciudad'].isin(['Madrid', 'Barcelona'])]\n",
    "print(ciudades_filtro)\n",
    "\n",
    "# Filtrar filas sin valores nulos\n",
    "print(\"\\nFilas sin valores nulos:\")\n",
    "print(df.dropna())"
   ],
   "outputs": [],
   "execution_count": null
  },
  {
   "cell_type": "markdown",
   "metadata": {},
   "source": [
    "## 2.6 Agregar y Modificar Columnas"
   ]
  },
  {
   "cell_type": "code",
   "metadata": {},
   "source": [
    "# Crear una copia para no modificar el original\n",
    "df_modificado = df.copy()\n",
    "\n",
    "# Agregar nueva columna\n",
    "df_modificado['Salario_Anual'] = df_modificado['Salario'] * 12\n",
    "print(\"DataFrame con salario anual:\")\n",
    "print(df_modificado)\n",
    "\n",
    "# Columna calculada con condiciones\n",
    "df_modificado['Categoría'] = df_modificado['Edad'].apply(\n",
    "    lambda x: 'Joven' if x < 30 else 'Adulto'\n",
    ")\n",
    "print(\"\\nCon columna de categoría:\")\n",
    "print(df_modificado)\n",
    "\n",
    "# Modificar valores existentes\n",
    "df_modificado.loc[df_modificado['Ciudad'] == 'Madrid', 'Salario'] = df_modificado['Salario'] * 1.1\n",
    "print(\"\\nSalarios de Madrid incrementados 10%:\")\n",
    "print(df_modificado[['Nombre', 'Ciudad', 'Salario']])"
   ],
   "outputs": [],
   "execution_count": null
  },
  {
   "cell_type": "markdown",
   "metadata": {},
   "source": [
    "## 2.7 Ordenamiento de Datos"
   ]
  },
  {
   "cell_type": "code",
   "metadata": {},
   "source": [
    "# Ordenar por una columna\n",
    "print(\"Ordenado por edad (ascendente):\")\n",
    "print(df.sort_values('Edad'))\n",
    "\n",
    "# Ordenar de forma descendente\n",
    "print(\"\\nOrdenado por salario (descendente):\")\n",
    "print(df.sort_values('Salario', ascending=False))\n",
    "\n",
    "# Ordenar por múltiples columnas\n",
    "print(\"\\nOrdenado por ciudad y luego por edad:\")\n",
    "print(df.sort_values(['Ciudad', 'Edad']))"
   ],
   "outputs": [],
   "execution_count": null
  },
  {
   "cell_type": "markdown",
   "metadata": {},
   "source": [
    "## 2.8 Agrupación y Agregación (GroupBy)\n",
    "\n",
    "GroupBy es una de las operaciones más poderosas de Pandas. Permite dividir, aplicar funciones y combinar datos."
   ]
  },
  {
   "cell_type": "code",
   "metadata": {},
   "source": [
    "# Agrupar por ciudad y calcular la media\n",
    "print(\"Salario promedio por ciudad:\")\n",
    "salario_por_ciudad = df.groupby('Ciudad')['Salario'].mean()\n",
    "print(salario_por_ciudad)\n",
    "\n",
    "# Múltiples agregaciones\n",
    "print(\"\\nEstadísticas por ciudad:\")\n",
    "stats = df.groupby('Ciudad').agg({\n",
    "    'Salario': ['mean', 'min', 'max'],\n",
    "    'Edad': 'mean'\n",
    "}).round(2)\n",
    "print(stats)\n",
    "\n",
    "# Contar elementos por grupo\n",
    "print(\"\\nCantidad de empleados por ciudad:\")\n",
    "print(df.groupby('Ciudad').size())"
   ],
   "outputs": [],
   "execution_count": null
  },
  {
   "cell_type": "markdown",
   "metadata": {},
   "source": [
    "## 2.9 Manejo de Valores Faltantes"
   ]
  },
  {
   "cell_type": "code",
   "metadata": {},
   "source": [
    "# Crear DataFrame con valores faltantes\n",
    "datos_incompletos = {\n",
    "    'A': [1, 2, np.nan, 4, 5],\n",
    "    'B': [10, np.nan, 30, 40, 50],\n",
    "    'C': [100, 200, 300, np.nan, 500]\n",
    "}\n",
    "df_nan = pd.DataFrame(datos_incompletos)\n",
    "print(\"DataFrame con valores faltantes:\")\n",
    "print(df_nan)\n",
    "\n",
    "# Detectar valores nulos\n",
    "print(\"\\n¿Hay valores nulos?\")\n",
    "print(df_nan.isnull())\n",
    "\n",
    "print(\"\\nCantidad de valores nulos por columna:\")\n",
    "print(df_nan.isnull().sum())\n",
    "\n",
    "# Eliminar filas con valores nulos\n",
    "print(\"\\nEliminar filas con NaN:\")\n",
    "print(df_nan.dropna())\n",
    "\n",
    "# Rellenar valores nulos\n",
    "print(\"\\nRellenar NaN con 0:\")\n",
    "print(df_nan.fillna(0))\n",
    "\n",
    "# Rellenar con la media de cada columna\n",
    "print(\"\\nRellenar con la media:\")\n",
    "print(df_nan.fillna(df_nan.mean()))"
   ],
   "outputs": [],
   "execution_count": null
  },
  {
   "cell_type": "markdown",
   "metadata": {},
   "source": [
    "## 2.10 Unión de DataFrames\n",
    "\n",
    "Pandas permite combinar múltiples DataFrames de diferentes formas."
   ]
  },
  {
   "cell_type": "code",
   "metadata": {},
   "source": [
    "# Crear dos DataFrames de ejemplo\n",
    "df1 = pd.DataFrame({\n",
    "    'ID': [1, 2, 3],\n",
    "    'Nombre': ['Ana', 'Luis', 'María'],\n",
    "    'Edad': [25, 32, 28]\n",
    "})\n",
    "\n",
    "df2 = pd.DataFrame({\n",
    "    'ID': [1, 2, 4],\n",
    "    'Departamento': ['Ventas', 'IT', 'Marketing'],\n",
    "    'Experiencia': [3, 8, 5]\n",
    "})\n",
    "\n",
    "print(\"DataFrame 1:\")\n",
    "print(df1)\n",
    "print(\"\\nDataFrame 2:\")\n",
    "print(df2)\n",
    "\n",
    "# Concatenar verticalmente (agregar filas)\n",
    "df3 = pd.DataFrame({\n",
    "    'ID': [5, 6],\n",
    "    'Nombre': ['Carlos', 'Elena'],\n",
    "    'Edad': [35, 29]\n",
    "})\n",
    "\n",
    "print(\"\\nConcatenar verticalmente:\")\n",
    "concatenado = pd.concat([df1, df3], ignore_index=True)\n",
    "print(concatenado)\n",
    "\n",
    "# Merge (similar a SQL JOIN) - Inner join\n",
    "print(\"\\nMerge (inner join):\")\n",
    "merged_inner = pd.merge(df1, df2, on='ID', how='inner')\n",
    "print(merged_inner)\n",
    "\n",
    "# Left join\n",
    "print(\"\\nMerge (left join):\")\n",
    "merged_left = pd.merge(df1, df2, on='ID', how='left')\n",
    "print(merged_left)\n",
    "\n",
    "# Outer join\n",
    "print(\"\\nMerge (outer join):\")\n",
    "merged_outer = pd.merge(df1, df2, on='ID', how='outer')\n",
    "print(merged_outer)"
   ],
   "outputs": [],
   "execution_count": null
  },
  {
   "cell_type": "markdown",
   "metadata": {},
   "source": [
    "## 2.11 Aplicar Funciones\n",
    "\n",
    "Pandas permite aplicar funciones personalizadas a DataFrames y Series."
   ]
  },
  {
   "cell_type": "code",
   "metadata": {},
   "source": [
    "# Apply sobre una columna\n",
    "df_temp = df.copy()\n",
    "df_temp['Edad_Duplicada'] = df_temp['Edad'].apply(lambda x: x * 2)\n",
    "print(\"Aplicar función a una columna:\")\n",
    "print(df_temp[['Nombre', 'Edad', 'Edad_Duplicada']])\n",
    "\n",
    "# Función personalizada\n",
    "def clasificar_salario(salario):\n",
    "    if salario < 35000:\n",
    "        return 'Bajo'\n",
    "    elif salario < 45000:\n",
    "        return 'Medio'\n",
    "    else:\n",
    "        return 'Alto'\n",
    "\n",
    "df_temp['Nivel_Salario'] = df_temp['Salario'].apply(clasificar_salario)\n",
    "print(\"\\nCon clasificación de salario:\")\n",
    "print(df_temp[['Nombre', 'Salario', 'Nivel_Salario']])\n",
    "\n",
    "# Apply sobre múltiples columnas\n",
    "def calcular_ratio(row):\n",
    "    return row['Salario'] / row['Edad']\n",
    "\n",
    "df_temp['Salario_por_Edad'] = df_temp.apply(calcular_ratio, axis=1)\n",
    "print(\"\\nRatio Salario/Edad:\")\n",
    "print(df_temp[['Nombre', 'Salario', 'Edad', 'Salario_por_Edad']].round(2))"
   ],
   "outputs": [],
   "execution_count": null
  },
  {
   "cell_type": "markdown",
   "metadata": {},
   "source": [
    "## 2.12 Tablas Pivote"
   ]
  },
  {
   "cell_type": "code",
   "metadata": {},
   "source": [
    "# Crear datos más complejos para el ejemplo\n",
    "ventas = pd.DataFrame({\n",
    "    'Fecha': ['2024-01', '2024-01', '2024-02', '2024-02', '2024-01', '2024-02'],\n",
    "    'Producto': ['A', 'B', 'A', 'B', 'A', 'B'],\n",
    "    'Ciudad': ['Madrid', 'Madrid', 'Madrid', 'Madrid', 'Barcelona', 'Barcelona'],\n",
    "    'Ventas': [100, 150, 120, 180, 90, 160]\n",
    "})\n",
    "\n",
    "print(\"Datos de ventas:\")\n",
    "print(ventas)\n",
    "\n",
    "# Crear tabla pivote\n",
    "print(\"\\nTabla pivote - Ventas por Producto y Ciudad:\")\n",
    "pivot = ventas.pivot_table(\n",
    "    values='Ventas',\n",
    "    index='Producto',\n",
    "    columns='Ciudad',\n",
    "    aggfunc='sum',\n",
    "    fill_value=0\n",
    ")\n",
    "print(pivot)\n",
    "\n",
    "# Pivot con múltiples agregaciones\n",
    "print(\"\\nTabla pivote con suma y promedio:\")\n",
    "pivot_multi = ventas.pivot_table(\n",
    "    values='Ventas',\n",
    "    index='Producto',\n",
    "    columns='Fecha',\n",
    "    aggfunc=['sum', 'mean']\n",
    ")\n",
    "print(pivot_multi)"
   ],
   "outputs": [],
   "execution_count": null
  },
  {
   "cell_type": "markdown",
   "metadata": {},
   "source": [
    "## 2.13 Lectura y Escritura de Archivos\n",
    "\n",
    "Pandas puede leer y escribir en múltiples formatos."
   ]
  },
  {
   "cell_type": "code",
   "metadata": {},
   "source": [
    "# Guardar DataFrame en CSV\n",
    "df.to_csv('empleados.csv', index=False, encoding='utf-8')\n",
    "print(\"DataFrame guardado en 'empleados.csv'\")\n",
    "\n",
    "# Leer CSV\n",
    "df_leido = pd.read_csv('empleados.csv')\n",
    "print(\"\\nDataFrame leído desde CSV:\")\n",
    "print(df_leido)\n",
    "\n",
    "# Guardar en Excel (requiere openpyxl o xlsxwriter)\n",
    "# df.to_excel('empleados.xlsx', index=False, sheet_name='Empleados')\n",
    "\n",
    "# Leer Excel\n",
    "# df_excel = pd.read_excel('empleados.xlsx', sheet_name='Empleados')\n",
    "\n",
    "# Guardar en JSON\n",
    "df.to_json('empleados.json', orient='records', indent=2, force_ascii=False)\n",
    "print(\"\\nDataFrame guardado en 'empleados.json'\")\n",
    "\n",
    "# Leer JSON\n",
    "df_json = pd.read_json('empleados.json')\n",
    "print(\"\\nDataFrame leído desde JSON:\")\n",
    "print(df_json)"
   ],
   "outputs": [],
   "execution_count": null
  },
  {
   "cell_type": "markdown",
   "metadata": {},
   "source": [
    "## 2.14 Manejo de Fechas y Tiempos"
   ]
  },
  {
   "cell_type": "code",
   "metadata": {},
   "source": [
    "# Crear DataFrame con fechas\n",
    "fechas = pd.DataFrame({\n",
    "    'Fecha': ['2024-01-01', '2024-02-15', '2024-03-30', '2024-04-20'],\n",
    "    'Ventas': [1000, 1500, 1200, 1800]\n",
    "})\n",
    "\n",
    "# Convertir a datetime\n",
    "fechas['Fecha'] = pd.to_datetime(fechas['Fecha'])\n",
    "print(\"DataFrame con fechas:\")\n",
    "print(fechas)\n",
    "print(\"\\nTipo de la columna Fecha:\", fechas['Fecha'].dtype)\n",
    "\n",
    "# Extraer componentes de fecha\n",
    "fechas['Año'] = fechas['Fecha'].dt.year\n",
    "fechas['Mes'] = fechas['Fecha'].dt.month\n",
    "fechas['Día'] = fechas['Fecha'].dt.day\n",
    "fechas['Día_Semana'] = fechas['Fecha'].dt.day_name()\n",
    "\n",
    "print(\"\\nCon componentes de fecha extraídos:\")\n",
    "print(fechas)\n",
    "\n",
    "# Generar rango de fechas\n",
    "rango_fechas = pd.date_range(start='2024-01-01', end='2024-01-10', freq='D')\n",
    "print(\"\\nRango de fechas:\")\n",
    "print(rango_fechas)"
   ],
   "outputs": [],
   "execution_count": null
  },
  {
   "cell_type": "markdown",
   "metadata": {},
   "source": [
    "## 2.15 Operaciones de String\n",
    "\n",
    "Pandas ofrece métodos poderosos para manipular cadenas de texto."
   ]
  },
  {
   "cell_type": "code",
   "metadata": {},
   "source": [
    "# DataFrame con texto\n",
    "textos = pd.DataFrame({\n",
    "    'Nombre': ['  ana garcía  ', 'LUIS PÉREZ', 'maría lópez', 'Carlos Ruiz'],\n",
    "    'Email': ['ana@email.com', 'luis@email.com', 'maria@email.com', 'carlos@email.com']\n",
    "})\n",
    "\n",
    "print(\"DataFrame original:\")\n",
    "print(textos)\n",
    "\n",
    "# Limpiar espacios y convertir a título\n",
    "textos['Nombre_Limpio'] = textos['Nombre'].str.strip().str.title()\n",
    "print(\"\\nCon nombres limpios:\")\n",
    "print(textos[['Nombre', 'Nombre_Limpio']])\n",
    "\n",
    "# Convertir a mayúsculas/minúsculas\n",
    "textos['Nombre_Mayus'] = textos['Nombre_Limpio'].str.upper()\n",
    "textos['Nombre_Minus'] = textos['Nombre_Limpio'].str.lower()\n",
    "\n",
    "# Contiene substring\n",
    "textos['Tiene_Garcia'] = textos['Nombre_Limpio'].str.contains('García', case=False)\n",
    "print(\"\\n¿Contiene 'García'?:\")\n",
    "print(textos[['Nombre_Limpio', 'Tiene_Garcia']])\n",
    "\n",
    "# Extraer partes del string\n",
    "textos['Primer_Nombre'] = textos['Nombre_Limpio'].str.split().str[0]\n",
    "textos['Apellido'] = textos['Nombre_Limpio'].str.split().str[-1]\n",
    "print(\"\\nCon nombres separados:\")\n",
    "print(textos[['Nombre_Limpio', 'Primer_Nombre', 'Apellido']])\n",
    "\n",
    "# Reemplazar texto\n",
    "textos['Email_Nuevo'] = textos['Email'].str.replace('@email.com', '@empresa.com')\n",
    "print(\"\\nEmails actualizados:\")\n",
    "print(textos[['Email', 'Email_Nuevo']])"
   ],
   "outputs": [],
   "execution_count": null
  },
  {
   "cell_type": "markdown",
   "metadata": {},
   "source": [
    "## 2.16 Resumen de Métodos Útiles de Pandas\n",
    "\n",
    "### Métodos de Información\n",
    "- `df.head(n)` - Primeras n filas\n",
    "- `df.tail(n)` - Últimas n filas\n",
    "- `df.info()` - Información general del DataFrame\n",
    "- `df.describe()` - Estadísticas descriptivas\n",
    "- `df.shape` - Dimensiones (filas, columnas)\n",
    "- `df.columns` - Lista de columnas\n",
    "- `df.dtypes` - Tipos de datos\n",
    "\n",
    "### Métodos de Selección\n",
    "- `df['columna']` - Seleccionar columna\n",
    "- `df[['col1', 'col2']]` - Múltiples columnas\n",
    "- `df.iloc[i, j]` - Selección por posición numérica\n",
    "- `df.loc[i, 'col']` - Selección por etiqueta\n",
    "- `df.query()` - Filtrado con expresiones\n",
    "\n",
    "### Métodos de Transformación\n",
    "- `df.drop()` - Eliminar filas/columnas\n",
    "- `df.rename()` - Renombrar columnas\n",
    "- `df.sort_values()` - Ordenar\n",
    "- `df.groupby()` - Agrupar\n",
    "- `df.merge()` - Unir DataFrames\n",
    "- `df.pivot_table()` - Crear tablas pivote\n",
    "\n",
    "### Métodos de Limpieza\n",
    "- `df.dropna()` - Eliminar valores nulos\n",
    "- `df.fillna()` - Rellenar valores nulos\n",
    "- `df.drop_duplicates()` - Eliminar duplicados\n",
    "- `df.replace()` - Reemplazar valores"
   ]
  },
  {
   "cell_type": "markdown",
   "metadata": {},
   "source": [
    "---\n",
    "## Ejercicios Prácticos\n",
    "\n",
    "Prueba estos ejercicios para practicar lo aprendido:\n",
    "\n",
    "1. **NumPy**: Crea una matriz 5x5 con números aleatorios entre 0 y 100, calcula su media, máximo y mínimo.\n",
    "\n",
    "2. **Pandas - Series**: Crea una serie con las ventas de una tienda durante 7 días y calcula el promedio y el día con más ventas.\n",
    "\n",
    "3. **Pandas - DataFrame**: Crea un DataFrame con información de 10 productos (nombre, precio, stock) y:\n",
    "   - Encuentra productos con precio mayor a 50\n",
    "   - Calcula el valor total del inventario (precio × stock)\n",
    "   - Ordena por precio de mayor a menor\n",
    "\n",
    "4. **Pandas - GroupBy**: Agrupa el DataFrame de empleados por ciudad y calcula el salario promedio y la edad promedio por ciudad.\n",
    "\n",
    "5. **Pandas - Limpieza**: Crea un DataFrame con algunos valores nulos y practica rellenarlos con diferentes estrategias (media, mediana, valor anterior)."
   ]
  }
 ],
 "metadata": {
  "kernelspec": {
   "display_name": "Python 3",
   "language": "python",
   "name": "python3"
  },
  "language_info": {
   "codemirror_mode": {
    "name": "ipython",
    "version": 3
   },
   "file_extension": ".py",
   "mimetype": "text/x-python",
   "name": "python",
   "nbconvert_exporter": "python",
   "pygments_lexer": "ipython3",
   "version": "3.13.3"
  }
 },
 "nbformat": 4,
 "nbformat_minor": 4
}
